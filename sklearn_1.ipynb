{
 "cells": [
  {
   "cell_type": "code",
   "execution_count": 90,
   "id": "34eebd1f",
   "metadata": {},
   "outputs": [],
   "source": [
    "import pandas as pd\n",
    "import numpy as np\n",
    "import matplotlib.pyplot as plt\n",
    "%matplotlib inline\n",
    "from sklearn.datasets import load_boston\n",
    "from sklearn.linear_model import LinearRegression\n",
    "from sklearn.metrics import r2_score\n",
    "from sklearn.preprocessing import StandardScaler\n",
    "from sklearn.metrics import mean_squared_error"
   ]
  },
  {
   "cell_type": "code",
   "execution_count": 91,
   "id": "4ba48d09",
   "metadata": {},
   "outputs": [],
   "source": [
    "boston = load_boston()\n",
    "boston.keys()\n",
    "x = pd.DataFrame(boston[\"data\"], columns=boston['feature_names'])\n",
    "y = pd.DataFrame(boston[\"target\"], columns=['price'])"
   ]
  },
  {
   "cell_type": "code",
   "execution_count": 92,
   "id": "f51ea9ea",
   "metadata": {},
   "outputs": [],
   "source": [
    "from sklearn.model_selection import train_test_split\n",
    "x_train, x_test, y_train, y_test = train_test_split(x, y, test_size=0.3, random_state=42)"
   ]
  },
  {
   "cell_type": "code",
   "execution_count": 93,
   "id": "b9a69c15",
   "metadata": {},
   "outputs": [
    {
     "data": {
      "text/plain": [
       "LinearRegression()"
      ]
     },
     "execution_count": 93,
     "metadata": {},
     "output_type": "execute_result"
    }
   ],
   "source": [
    "model = LinearRegression()\n",
    "model.fit(x, y)"
   ]
  },
  {
   "cell_type": "code",
   "execution_count": 94,
   "id": "b88e407d",
   "metadata": {},
   "outputs": [],
   "source": [
    "y_pred = model.predict(x_test)\n",
    "r2_score(model.predict(x_test), y_test)\n",
    "mse1 = mean_squared_error(y_test, y_pred)"
   ]
  },
  {
   "cell_type": "code",
   "execution_count": 95,
   "id": "1da74a2e",
   "metadata": {},
   "outputs": [],
   "source": [
    "scaler = StandardScaler()\n",
    "\n",
    "x_train_scaled = scaler.fit_transform(x_train)\n",
    "x_train_scaled = pd.DataFrame(x_train_scaled, columns=boston['feature_names'])\n",
    "\n",
    "x_test_scaled = scaler.fit_transform(x_test)\n",
    "x_test_scaled = pd.DataFrame(x_test_scaled, columns=boston['feature_names'])"
   ]
  },
  {
   "cell_type": "code",
   "execution_count": 96,
   "id": "c5ca0d1d",
   "metadata": {},
   "outputs": [
    {
     "data": {
      "image/png": "[encoded data removed]",
      "text/plain": [
       "<Figure size 432x288 with 1 Axes>"
      ]
     },
     "metadata": {
      "needs_background": "light"
     },
     "output_type": "display_data"
    }
   ],
   "source": [
    "model.fit(x_train_scaled, y_train)\n",
    "\n",
    "plt.barh(boston['feature_names'], model.coef_.flatten())\n",
    "\n",
    "plt.xlabel(\"Вес признака\")\n",
    "plt.ylabel(\"Признак\")\n",
    "\n",
    "plt.show()"
   ]
  },
  {
   "cell_type": "code",
   "execution_count": 97,
   "id": "2e75e331",
   "metadata": {},
   "outputs": [],
   "source": [
    "important_features = [\n",
    "    feature\n",
    "    for feature, weight in zip(boston['feature_names'], model.coef_.flatten())\n",
    "    if np.abs(weight) > 0.5\n",
    "]"
   ]
  },
  {
   "cell_type": "code",
   "execution_count": 98,
   "id": "e5e65473",
   "metadata": {},
   "outputs": [],
   "source": [
    "model.fit(\n",
    "    x_train_scaled.loc[:, important_features],\n",
    "    y_train\n",
    ")\n",
    "\n",
    "y_pred = model.predict(x_test_scaled.loc[:, important_features])\n",
    "\n",
    "mse2 = mean_squared_error(y_test, y_pred)"
   ]
  },
  {
   "cell_type": "code",
   "execution_count": null,
   "id": "3d547530",
   "metadata": {},
   "outputs": [],
   "source": []
  },
  {
   "cell_type": "code",
   "execution_count": 73,
   "id": "6d56e254",
   "metadata": {},
   "outputs": [],
   "source": [
    "from sklearn.ensemble import RandomForestRegressor"
   ]
  },
  {
   "cell_type": "code",
   "execution_count": 112,
   "id": "a23aed86",
   "metadata": {},
   "outputs": [],
   "source": [
    "model = RandomForestRegressor(n_estimators=1000, max_depth=12, random_state=42)\n",
    "model.fit(x_train_scaled.loc[:, important_features], y_train.values[:, 0])\n",
    "y_pred = model.predict(x_test_scaled.loc[:, important_features])\n",
    "mse3 = mean_squared_error(y_test, y_pred)"
   ]
  },
  {
   "cell_type": "code",
   "execution_count": 113,
   "id": "644e9af8",
   "metadata": {},
   "outputs": [
    {
     "name": "stdout",
     "output_type": "stream",
     "text": [
      "mse1 = 19.64625014592812, mse2 = 23.850685901073568, mse3 = 11.077936787625092\n"
     ]
    }
   ],
   "source": [
    "print(f'mse1 = {mse1}, mse2 = {mse2}, mse3 = {mse3}')"
   ]
  },
  {
   "cell_type": "markdown",
   "id": "020f8104",
   "metadata": {},
   "source": []
  }
 ],
 "metadata": {
  "kernelspec": {
   "display_name": "Python 3",
   "language": "python",
   "name": "python3"
  },
  "language_info": {
   "codemirror_mode": {
    "name": "ipython",
    "version": 3
   },
   "file_extension": ".py",
   "mimetype": "text/x-python",
   "name": "python",
   "nbconvert_exporter": "python",
   "pygments_lexer": "ipython3",
   "version": "3.8.8"
  }
 },
 "nbformat": 4,
 "nbformat_minor": 5
}
