{
 "cells": [
  {
   "cell_type": "code",
   "execution_count": 3,
   "id": "4f49ab28",
   "metadata": {},
   "outputs": [],
   "source": [
    "import numpy as np\n"
   ]
  },
  {
   "cell_type": "markdown",
   "id": "01635eb9",
   "metadata": {},
   "source": [
    "# Creating arrays with numpy"
   ]
  },
  {
   "cell_type": "code",
   "execution_count": 15,
   "id": "631d6971",
   "metadata": {},
   "outputs": [
    {
     "name": "stdout",
     "output_type": "stream",
     "text": [
      "[2.  8.6]\n"
     ]
    }
   ],
   "source": [
    "a = np.array([[1, 6],\n",
    "            [2, 8],\n",
    "            [3, 11],\n",
    "            [3, 10],\n",
    "            [1, 8]])\n",
    "mean_a = a.mean(axis=0)"
   ]
  },
  {
   "cell_type": "markdown",
   "id": "5c9c913e",
   "metadata": {},
   "source": [
    "# Array operations\n"
   ]
  },
  {
   "cell_type": "code",
   "execution_count": 23,
   "id": "32309013",
   "metadata": {},
   "outputs": [
    {
     "data": {
      "text/plain": [
       "1.75"
      ]
     },
     "execution_count": 23,
     "metadata": {},
     "output_type": "execute_result"
    }
   ],
   "source": [
    "a_centred = a - mean_a\n",
    "a_centred_sp = a_centred.T[0] @ a_centred.T[1]\n",
    "a_centred_sp = a_centred_sp / (a_centred.shape[0]-1)\n",
    "np.cov(a.T)[0, 1]"
   ]
  },
  {
   "cell_type": "markdown",
   "id": "94a4ae3f",
   "metadata": {},
   "source": [
    "# Pandas\n"
   ]
  },
  {
   "cell_type": "code",
   "execution_count": 2,
   "id": "62a058da",
   "metadata": {},
   "outputs": [],
   "source": [
    "import pandas as pd"
   ]
  },
  {
   "cell_type": "code",
   "execution_count": 10,
   "id": "5d4ad46e",
   "metadata": {},
   "outputs": [
    {
     "name": "stdout",
     "output_type": "stream",
     "text": [
      "            price                 \n",
      "              min  max        mean\n",
      "author_name                       \n",
      "Островский    290  370  330.000000\n",
      "Тургенев      300  450  366.666667\n",
      "Чехов         450  500  475.000000\n"
     ]
    }
   ],
   "source": [
    "authors = pd.DataFrame({\"author_id\": [1, 2, 3],\n",
    "                        \"author_name\": ['Тургенев', 'Чехов', 'Островский']})\n",
    "books = pd.DataFrame({\"author_id\": [1, 1, 1, 2, 2, 3, 3],\n",
    "                      \"book_title\": ['Отцы и дети', 'Рудин', 'Дворянское гнездо', 'Толстый и тонкий', 'Дама с собачкой', 'Гроза', 'Таланты и поклонники'],\n",
    "                      \"price\": [450, 300, 350, 500, 450, 370, 290]})\n",
    "authors_price = pd.merge(authors, books, on='author_id', how='inner')\n",
    "authors_price.sort_values(by=\"price\", inplace=True)\n",
    "authors_price.reset_index(drop=True, inplace=False)\n",
    "top5 = authors_price.tail()\n",
    "author_stat = authors_price['author_name'].value_counts()\n",
    "author_stat = authors_price.groupby('author_name').agg({'price':['min', 'max', 'mean']})\n",
    "print(author_stat)"
   ]
  },
  {
   "cell_type": "code",
   "execution_count": null,
   "id": "b9ea07bb",
   "metadata": {},
   "outputs": [],
   "source": []
  }
 ],
 "metadata": {
  "kernelspec": {
   "display_name": "Python 3",
   "language": "python",
   "name": "python3"
  },
  "language_info": {
   "codemirror_mode": {
    "name": "ipython",
    "version": 3
   },
   "file_extension": ".py",
   "mimetype": "text/x-python",
   "name": "python",
   "nbconvert_exporter": "python",
   "pygments_lexer": "ipython3",
   "version": "3.8.8"
  }
 },
 "nbformat": 4,
 "nbformat_minor": 5
}
